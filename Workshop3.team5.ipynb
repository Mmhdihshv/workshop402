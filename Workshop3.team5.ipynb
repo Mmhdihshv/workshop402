{
 "cells": [
  {
   "cell_type": "markdown",
   "id": "f19f0959",
   "metadata": {},
   "source": [
    "# Excersize \n",
    "<br>\n",
    "<div style=\"direction:rtl; color:blue; font-size:150%;\">\n",
    "تابعی بنویسید که دو ضلع کوتاه تر یک مثلث قائم الزاویه را از ورودی دریافت کرده و اندازه وتر را برگرداند.\n",
    "<br>\n"
   ]
  },
  {
   "cell_type": "code",
   "execution_count": 16,
   "id": "3019eb75",
   "metadata": {},
   "outputs": [
    {
     "data": {
      "text/plain": [
       "10.0"
      ]
     },
     "execution_count": 16,
     "metadata": {},
     "output_type": "execute_result"
    }
   ],
   "source": [
    "def vatr(a,b):\n",
    "    \n",
    "    n=a**2+b**2\n",
    "    import math\n",
    "    andze_vatr=math.sqrt(n)\n",
    "    return andze_vatr\n",
    "\n",
    "a=ertfa=int(input(\"ertefa ra vard knid\"))\n",
    "b=qaede=int(input(\"qaede ra vard knid\"))\n",
    "\n",
    "vatr(a,b)\n",
    "    "
   ]
  },
  {
   "cell_type": "markdown",
   "id": "31dbd3b2",
   "metadata": {},
   "source": [
    "# Excersize \n",
    "<br>\n",
    "<div style=\"direction:rtl; color:blue; font-size:150%;\">\n",
    "نحوه محاسبه کرایه تاکسی براساس مسافت طی شده بر حسب کیلومتر است. به این صورت که مبلغ ورودی و برای 10 کیلومتر اول معادل 4 دلار و به ازای هر کیلومتر اضافی 0.25 دلار به کرایه افزوده می شود. برنامه ای بنویسید که کرایه تاکسی(تاکسی متر) را محاسبه نماید. \n",
    "<br>\n"
   ]
  },
  {
   "cell_type": "code",
   "execution_count": 27,
   "id": "7dd8d990",
   "metadata": {},
   "outputs": [
    {
     "name": "stdout",
     "output_type": "stream",
     "text": [
      "keraye 12.75 $ ast\n"
     ]
    }
   ],
   "source": [
    "def keraye():\n",
    "    a=float(input(\"chnd killometr?\"))\n",
    "    if a==10:\n",
    "     print(\"keraye 4$ ast\")\n",
    "    elif a>10:\n",
    "     n=a-10\n",
    "     ezafe=n*0.25\n",
    "     keraye=4+ezafe\n",
    "     print(\"keraye\",keraye,\"$ ast\")\n",
    "             \n",
    "keraye()\n",
    "     \n",
    "    "
   ]
  },
  {
   "cell_type": "markdown",
   "id": "4640c233",
   "metadata": {
    "run_control": {
     "marked": true
    }
   },
   "source": [
    "# Excersize \n",
    "<br>\n",
    "<div style=\"direction:rtl; color:blue; font-size:150%;\">\n",
    "برنامه ای بنویسید که سه عدد از ورودی را دریافت نموده و مقدار میانه \n",
    "(Median)\n",
    "را به عنوان نتیجه در خروجی بازگرداند.\n",
    "    برنامه را در قالب یک \n",
    "    main\n",
    "    فایل پیاده سازی نمائید که بتوان آن را در برنامه \n",
    "    import \n",
    "    نمود.\n",
    "</div>\n",
    "    "
   ]
  },
  {
   "cell_type": "code",
   "execution_count": 22,
   "id": "33813197",
   "metadata": {},
   "outputs": [
    {
     "data": {
      "text/plain": [
       "7.0"
      ]
     },
     "execution_count": 22,
     "metadata": {},
     "output_type": "execute_result"
    }
   ],
   "source": [
    "def median():\n",
    "    a=float(input(\"Enter first num\"))\n",
    "    b=float(input(\"Enter second num\"))\n",
    "    c=float(input(\"Enter third num\"))\n",
    "    \n",
    "    return b\n",
    "\n",
    "\n",
    "median()\n",
    "\n"
   ]
  },
  {
   "cell_type": "markdown",
   "id": "53e92f2f",
   "metadata": {},
   "source": [
    "# Excersize \n",
    "<br>\n",
    "<div style=\"direction:rtl; color:blue; font-size:150%;\">\n",
    "برنامه ای بنویسید که یک متن رشته ای از کاربر دریافت نموده و آن را درست در وسط ترمینال خروجی چاپ نماید. برای این کار تابعی بنویسید که به عنوان پارامتر اول رشته و به عنوان پارامتر دوم عرض ترمینال برجسب کاراکتر را دریافت نماید و خروجی تابع یک رشته است که متن  در وسط ان قرار داده شده است.\n",
    "</div>"
   ]
  },
  {
   "cell_type": "code",
   "execution_count": 20,
   "id": "1e369705",
   "metadata": {},
   "outputs": [
    {
     "name": "stdout",
     "output_type": "stream",
     "text": [
      "       mhdie\n"
     ]
    }
   ],
   "source": [
    "def chap(reshte,aarz):\n",
    "    if aarz%2==0:\n",
    "        print((aarz)*\" \"+reshte)\n",
    "    else:\n",
    "        print((aarz-1)*\" \",reshte)\n",
    "\n",
    "str=input(\"rshte mord nazar ra vared konin\")\n",
    "\n",
    "weith=int(input(\"aarz mord nazar ra vaared konid\"))\n",
    "\n",
    "chap(str,weith)"
   ]
  },
  {
   "cell_type": "markdown",
   "id": "ccfbfed6",
   "metadata": {},
   "source": [
    "# Excersize \n",
    "<br>\n",
    "<div style=\"direction:rtl; color:blue; font-size:150%;\">\n",
    "برنامه ای بنویسید که طول سه ضلع را از ورودی دریافت کرده و در خروجی نشان دهد آیا با آن سه ضلع می توان یک مثلث رسم نمود یا نه\n",
    "</div>"
   ]
  },
  {
   "cell_type": "code",
   "execution_count": null,
   "id": "d7e1082d",
   "metadata": {},
   "outputs": [
    {
     "name": "stdout",
     "output_type": "stream",
     "text": [
      "YES\n"
     ]
    }
   ],
   "source": [
    "def mosalas():\n",
    "        \n",
    "    x=float(input(\"Enter x\"))\n",
    "    y=float(input(\"Enter y\"))\n",
    "    z=float(input(\"Enter z\"))\n",
    "\n",
    "    if ((x+y>z)&(z+y>x)&(z+x>y)):\n",
    "      print(\"YES\")\n",
    "    else: \n",
    "      print(\"NO\")\n",
    "      \n",
    "      \n",
    "mosalas()\n"
   ]
  },
  {
   "cell_type": "markdown",
   "id": "7e3b75e7",
   "metadata": {
    "run_control": {
     "marked": true
    }
   },
   "source": [
    "# Excersize \n",
    "<br>\n",
    "<div style=\"direction:rtl; color:blue; font-size:150%;\">\n",
    "برنامه ای بنویسید که یک رشته به زبان انگلیسی را از ورودی دریافت نموده و در خروجی کاراکترهای زیر را به حروف بزرگ\n",
    "Capitalize\n",
    "کرده باشد.\n",
    "</div>\n",
    "<div style=\"direction:rtl; color:blue; font-size:150%;\">\n",
    "    <br>\n",
    "    • Capitalize the first non-space character in the string,\n",
    "    <br>\n",
    "    • Capitalize the first non-space character after a period, exclamationmark or question\n",
    "        mark, and\n",
    "    <br>\n",
    "    • Capitalize a lowercase “i” if it is preceded by a space and followed by a space,\n",
    "        period, exclamation mark, question mark or apostrophe.\n",
    "    <br>\n",
    "    \n",
    "</div>\n",
    "<br>\n"
   ]
  },
  {
   "cell_type": "code",
   "execution_count": 17,
   "id": "6063083c",
   "metadata": {},
   "outputs": [
    {
     "name": "stdout",
     "output_type": "stream",
     "text": [
      "Ng\n"
     ]
    }
   ],
   "source": []
  },
  {
   "cell_type": "markdown",
   "id": "54d7083a",
   "metadata": {},
   "source": [
    "# Excersize \n",
    "<br>\n",
    "<div style=\"direction:rtl; color:blue; font-size:150%;\">\n",
    "برنامه ای بنویسید که یک رشته را از ورودی دریافت نموده و بررسی نماید که آیا تمام کاراکترهای موجود در آن مقادیر اینتیجر هستند یا نه؟\n",
    "برای بررسی رشته حتما ابتدا فضای خالی ابتدا و انتهای رشته را حذف نمائید.\n",
    "</div>\n"
   ]
  },
  {
   "cell_type": "code",
   "execution_count": 2,
   "id": "1e3a8279",
   "metadata": {},
   "outputs": [
    {
     "ename": "IndentationError",
     "evalue": "unindent does not match any outer indentation level (<tokenize>, line 4)",
     "output_type": "error",
     "traceback": [
      "\u001b[1;36m  File \u001b[1;32m<tokenize>:4\u001b[1;36m\u001b[0m\n\u001b[1;33m    except ValueError:\u001b[0m\n\u001b[1;37m    ^\u001b[0m\n\u001b[1;31mIndentationError\u001b[0m\u001b[1;31m:\u001b[0m unindent does not match any outer indentation level\n"
     ]
    }
   ],
   "source": []
  },
  {
   "cell_type": "markdown",
   "id": "6bf1e98c",
   "metadata": {},
   "source": [
    "# Excersize \n",
    "<br>\n",
    "<div style=\"direction:rtl; color:blue; font-size:150%;\">\n",
    "برنامه ای بنویسید که یک پسورد تصادفی به طول 7 الی 10 کاراکتر تولید کند. پسورد باید براساس کد اسکی حاوی حروف کوچک، حروف بزرگ، اعداد و کاراکترهای زیر باشد\n",
    "{-, _, *, @, #, ~, !, +, *}\n",
    "</div>"
   ]
  },
  {
   "cell_type": "code",
   "execution_count": 3,
   "id": "f95f3181",
   "metadata": {},
   "outputs": [
    {
     "name": "stdout",
     "output_type": "stream",
     "text": [
      "['x', 'q', 'c', 'F', 'H', 'r', '_', '2', 'g', 'Z']\n"
     ]
    }
   ],
   "source": [
    "\n",
    "import random\n",
    "\n",
    "l_w =\"abcdefghijklmnopqrstuvwxyz\"\n",
    "u_w =l_w.upper()\n",
    "n=\"0123456789\"\n",
    "s=\"{-_*@#~!+*}\"\n",
    "ch=l_w + u_w + n + s\n",
    "\n",
    "password = random.sample(ch , 10)\n",
    "print(password)\n"
   ]
  },
  {
   "cell_type": "markdown",
   "id": "bdecda6d",
   "metadata": {},
   "source": [
    "# Excersize \n",
    "<br>\n",
    "<div style=\"direction:rtl; color:blue; font-size:150%;\">\n",
    "برنامه ای بنویسید که معتبر بودن یک پسور را براساس قوانین زیر بررسی کند.\n",
    "    1- طول پسورد حداقل 8 کاراکتر باشد\n",
    "    2- پسورد حتما حاوی حروف کوچک، بزرگ، اعداد و کاراکترهای خاص تمرین 8 باشد\n",
    "</div>"
   ]
  },
  {
   "cell_type": "code",
   "execution_count": null,
   "id": "a769534e",
   "metadata": {},
   "outputs": [
    {
     "name": "stdout",
     "output_type": "stream",
     "text": [
      "hrf kochk dard\n",
      "hrf bzrg ndard\n",
      "add dard\n",
      "char dard\n"
     ]
    }
   ],
   "source": [
    "\n",
    "import re\n",
    "p=input(\"Enter your pass\")\n",
    "\n",
    "l=len(p)\n",
    "if l<8:\n",
    "  print(\"tol pass kamtar az 8 ast\")\n",
    "\n",
    "if re.search(\"[a-z]\", p):\n",
    "  print(\"hrf kochk dard\") \n",
    "elif not re.search(\"[a-z]\", p):\n",
    "  print(\"hrf kochk ndard\")\n",
    "  \n",
    "if re.search(\"[A-Z]\", p):\n",
    "  print(\"hrf bzrg dard\") \n",
    "elif not re.search(\"[A-Z]\", p):\n",
    "  print(\"hrf bzrg ndard\")\n",
    "  \n",
    "if re.search(\"[0-9]\", p):\n",
    "  print(\"add dard\") \n",
    "elif not re.search(\"[0-9]\", p):\n",
    "  print(\"add ndard\")\n",
    "  \n",
    "  \n",
    "if re.search(\"[!-)]\", p):\n",
    "  print(\"character dard\") \n",
    "elif not re.search(\"[!-)]\", p):\n",
    "  print(\"character ndard\")\n",
    "  \n",
    "  "
   ]
  },
  {
   "cell_type": "markdown",
   "id": "49fc2c8f",
   "metadata": {},
   "source": [
    "# Excersize \n",
    "<br>\n",
    "<div style=\"direction:rtl; color:blue; font-size:150%;\">\n",
    "ماژولی پیاده سازی نمائید شامل توابع زیر که بتواند کلیه اعمال مربوط به اعتبارسنجی ورودی توسط کاربر را انجام دهد.\n",
    "    1- بررسی کلیه کارکترهای ورودی عددی باشد\n",
    "    2- بررسی کلیه کاراکترهای ورودی حروف الفبا باشد\n",
    "    3- شماره تلفن فرمت درستی داشته باشد\n",
    "    4- شماره موبایل فرمت درستی داشته باشد\n",
    "    5- آدرس ایمیل فرمت درستی داشته باشد\n",
    "    6- پسورد ورودی مطابق قوانین تعریف شده در تمرین های 7و 8 باشد\n",
    "    7- آدرس پستی شامل کاراکتر، عدد و خط تیره باشد\n",
    "    8- کدپستی مطابق استاندارد ده رقمی و حاوی عدد باشد\n",
    "</div>"
   ]
  }
 ],
 "metadata": {
  "kernelspec": {
   "display_name": "Python 3 (ipykernel)",
   "language": "python",
   "name": "python3"
  },
  "language_info": {
   "codemirror_mode": {
    "name": "ipython",
    "version": 3
   },
   "file_extension": ".py",
   "mimetype": "text/x-python",
   "name": "python",
   "nbconvert_exporter": "python",
   "pygments_lexer": "ipython3",
   "version": "3.10.2"
  },
  "toc": {
   "base_numbering": 1,
   "nav_menu": {
    "height": "180px",
    "width": "202px"
   },
   "number_sections": true,
   "sideBar": true,
   "skip_h1_title": false,
   "title_cell": "Table of Contents",
   "title_sidebar": "Contents",
   "toc_cell": false,
   "toc_position": {},
   "toc_section_display": true,
   "toc_window_display": false
  },
  "varInspector": {
   "cols": {
    "lenName": 16,
    "lenType": 16,
    "lenVar": 40
   },
   "kernels_config": {
    "python": {
     "delete_cmd_postfix": "",
     "delete_cmd_prefix": "del ",
     "library": "var_list.py",
     "varRefreshCmd": "print(var_dic_list())"
    },
    "r": {
     "delete_cmd_postfix": ") ",
     "delete_cmd_prefix": "rm(",
     "library": "var_list.r",
     "varRefreshCmd": "cat(var_dic_list()) "
    }
   },
   "types_to_exclude": [
    "module",
    "function",
    "builtin_function_or_method",
    "instance",
    "_Feature"
   ],
   "window_display": false
  }
 },
 "nbformat": 4,
 "nbformat_minor": 5
}
